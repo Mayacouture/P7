{
 "cells": [
  {
   "cell_type": "markdown",
   "metadata": {
    "id": "jOLiYejK1hzs"
   },
   "source": [
    "# PROJET 7_ 02_CREATION DE FEATURES"
   ]
  },
  {
   "cell_type": "markdown",
   "metadata": {
    "id": "rnruFfDc1zpl"
   },
   "source": [
    "## IMPORTS"
   ]
  },
  {
   "cell_type": "code",
   "execution_count": 1,
   "metadata": {
    "id": "dsowapxpUUSw"
   },
   "outputs": [],
   "source": [
    "# numpy and pandas for data manipulation\n",
    "import numpy as np\n",
    "import pandas as pd \n",
    "import math\n",
    "\n",
    "# File system manangement\n",
    "import os\n",
    "\n",
    "# Suppress warnings \n",
    "import warnings\n",
    "warnings.filterwarnings('ignore')\n",
    "\n",
    "# matplotlib and seaborn for plotting\n",
    "import matplotlib.pyplot as plt\n",
    "import seaborn as sns\n",
    "import matplotlib.ticker as ticker"
   ]
  },
  {
   "cell_type": "code",
   "execution_count": 2,
   "metadata": {
    "id": "Fj76h_4jUWP5"
   },
   "outputs": [],
   "source": [
    "import sklearn\n",
    "from sklearn.preprocessing import LabelEncoder\n",
    "from sklearn.model_selection import train_test_split"
   ]
  },
  {
   "cell_type": "markdown",
   "metadata": {
    "id": "X10GsrpA12Xt"
   },
   "source": [
    "\n",
    "## DONNEES"
   ]
  },
  {
   "cell_type": "code",
   "execution_count": 3,
   "metadata": {},
   "outputs": [
    {
     "data": {
      "text/plain": [
       "'C:\\\\Users\\\\marie\\\\OneDrive\\\\OPC\\\\P7'"
      ]
     },
     "execution_count": 3,
     "metadata": {},
     "output_type": "execute_result"
    }
   ],
   "source": [
    "os.getcwd()"
   ]
  },
  {
   "cell_type": "code",
   "execution_count": 4,
   "metadata": {
    "id": "MOcUfFT1UZpJ"
   },
   "outputs": [],
   "source": [
    "app_train = pd.read_csv(\"C:\\\\Users\\\\marie\\\\OneDrive\\\\OPC\\\\P7/application_train.csv\")\n",
    "\n",
    "app_test = pd.read_csv(\"C:\\\\Users\\\\marie\\\\OneDrive\\\\OPC\\\\P7/application_test.csv\")\n",
    "\n",
    "bureau_balance = pd.read_csv(\"C:\\\\Users\\\\marie\\\\OneDrive\\\\OPC\\\\P7/bureau_balance.csv\")\n",
    "\n",
    "bureau = pd.read_csv(\"C:\\\\Users\\\\marie\\\\OneDrive\\\\OPC\\\\P7/bureau.csv\")\n",
    "\n",
    "credit = pd.read_csv(\"C:\\\\Users\\\\marie\\\\OneDrive\\\\OPC\\\\P7/credit_card_balance.csv\")\n",
    "\n",
    "installments = pd.read_csv(\"C:\\\\Users\\\\marie\\\\OneDrive\\\\OPC\\\\P7/installments_payments.csv\")\n",
    "\n",
    "cash = pd.read_csv(\"C:\\\\Users\\\\marie\\\\OneDrive\\\\OPC\\\\P7/POS_CASH_balance.csv\")\n",
    "\n",
    "prev_app = pd.read_csv(\"C:\\\\Users\\\\marie\\\\OneDrive\\\\OPC\\\\P7/previous_application.csv\")"
   ]
  },
  {
   "cell_type": "code",
   "execution_count": 5,
   "metadata": {},
   "outputs": [
    {
     "data": {
      "text/plain": [
       "(307511, 122)"
      ]
     },
     "execution_count": 5,
     "metadata": {},
     "output_type": "execute_result"
    }
   ],
   "source": [
    "app_train.shape"
   ]
  },
  {
   "cell_type": "markdown",
   "metadata": {},
   "source": [
    "# ANOMALIES"
   ]
  },
  {
   "cell_type": "code",
   "execution_count": 6,
   "metadata": {},
   "outputs": [
    {
     "name": "stdout",
     "output_type": "stream",
     "text": [
      "-17912\n"
     ]
    }
   ],
   "source": [
    "# Nous remplaçons les Nan des clients ayant une ancienneté de 365 000 jours par la valeur max de la colonne\n",
    "max_employed = int(app_train.loc[app_train[\"DAYS_EMPLOYED\"]!= 365243, ['DAYS_EMPLOYED']].min())\n",
    "print(max_employed)\n",
    "\n",
    "# Create an anomalous flag column\n",
    "#app_train['DAYS_EMPLOYED_ANOM'] = app_train[\"DAYS_EMPLOYED\"] == 365243\n",
    "\n",
    "# Replace the anomalous values with max dyas employed\n",
    "\n",
    "app_train['DAYS_EMPLOYED'].replace(365243, max_employed, inplace = True)"
   ]
  },
  {
   "cell_type": "code",
   "execution_count": 7,
   "metadata": {},
   "outputs": [
    {
     "data": {
      "text/html": [
       "<div>\n",
       "<style scoped>\n",
       "    .dataframe tbody tr th:only-of-type {\n",
       "        vertical-align: middle;\n",
       "    }\n",
       "\n",
       "    .dataframe tbody tr th {\n",
       "        vertical-align: top;\n",
       "    }\n",
       "\n",
       "    .dataframe thead th {\n",
       "        text-align: right;\n",
       "    }\n",
       "</style>\n",
       "<table border=\"1\" class=\"dataframe\">\n",
       "  <thead>\n",
       "    <tr style=\"text-align: right;\">\n",
       "      <th></th>\n",
       "      <th>SK_ID_CURR</th>\n",
       "      <th>TARGET</th>\n",
       "      <th>NAME_CONTRACT_TYPE</th>\n",
       "      <th>CODE_GENDER</th>\n",
       "      <th>FLAG_OWN_CAR</th>\n",
       "      <th>FLAG_OWN_REALTY</th>\n",
       "      <th>CNT_CHILDREN</th>\n",
       "      <th>AMT_INCOME_TOTAL</th>\n",
       "      <th>AMT_CREDIT</th>\n",
       "      <th>AMT_ANNUITY</th>\n",
       "      <th>...</th>\n",
       "      <th>FLAG_DOCUMENT_18</th>\n",
       "      <th>FLAG_DOCUMENT_19</th>\n",
       "      <th>FLAG_DOCUMENT_20</th>\n",
       "      <th>FLAG_DOCUMENT_21</th>\n",
       "      <th>AMT_REQ_CREDIT_BUREAU_HOUR</th>\n",
       "      <th>AMT_REQ_CREDIT_BUREAU_DAY</th>\n",
       "      <th>AMT_REQ_CREDIT_BUREAU_WEEK</th>\n",
       "      <th>AMT_REQ_CREDIT_BUREAU_MON</th>\n",
       "      <th>AMT_REQ_CREDIT_BUREAU_QRT</th>\n",
       "      <th>AMT_REQ_CREDIT_BUREAU_YEAR</th>\n",
       "    </tr>\n",
       "  </thead>\n",
       "  <tbody>\n",
       "    <tr>\n",
       "      <th>0</th>\n",
       "      <td>100002</td>\n",
       "      <td>1</td>\n",
       "      <td>Cash loans</td>\n",
       "      <td>M</td>\n",
       "      <td>N</td>\n",
       "      <td>Y</td>\n",
       "      <td>0</td>\n",
       "      <td>202500.0</td>\n",
       "      <td>406597.5</td>\n",
       "      <td>24700.5</td>\n",
       "      <td>...</td>\n",
       "      <td>0</td>\n",
       "      <td>0</td>\n",
       "      <td>0</td>\n",
       "      <td>0</td>\n",
       "      <td>0.0</td>\n",
       "      <td>0.0</td>\n",
       "      <td>0.0</td>\n",
       "      <td>0.0</td>\n",
       "      <td>0.0</td>\n",
       "      <td>1.0</td>\n",
       "    </tr>\n",
       "    <tr>\n",
       "      <th>1</th>\n",
       "      <td>100003</td>\n",
       "      <td>0</td>\n",
       "      <td>Cash loans</td>\n",
       "      <td>F</td>\n",
       "      <td>N</td>\n",
       "      <td>N</td>\n",
       "      <td>0</td>\n",
       "      <td>270000.0</td>\n",
       "      <td>1293502.5</td>\n",
       "      <td>35698.5</td>\n",
       "      <td>...</td>\n",
       "      <td>0</td>\n",
       "      <td>0</td>\n",
       "      <td>0</td>\n",
       "      <td>0</td>\n",
       "      <td>0.0</td>\n",
       "      <td>0.0</td>\n",
       "      <td>0.0</td>\n",
       "      <td>0.0</td>\n",
       "      <td>0.0</td>\n",
       "      <td>0.0</td>\n",
       "    </tr>\n",
       "  </tbody>\n",
       "</table>\n",
       "<p>2 rows × 122 columns</p>\n",
       "</div>"
      ],
      "text/plain": [
       "   SK_ID_CURR  TARGET NAME_CONTRACT_TYPE CODE_GENDER FLAG_OWN_CAR  \\\n",
       "0      100002       1         Cash loans           M            N   \n",
       "1      100003       0         Cash loans           F            N   \n",
       "\n",
       "  FLAG_OWN_REALTY  CNT_CHILDREN  AMT_INCOME_TOTAL  AMT_CREDIT  AMT_ANNUITY  \\\n",
       "0               Y             0          202500.0    406597.5      24700.5   \n",
       "1               N             0          270000.0   1293502.5      35698.5   \n",
       "\n",
       "   ...  FLAG_DOCUMENT_18 FLAG_DOCUMENT_19 FLAG_DOCUMENT_20 FLAG_DOCUMENT_21  \\\n",
       "0  ...                 0                0                0                0   \n",
       "1  ...                 0                0                0                0   \n",
       "\n",
       "  AMT_REQ_CREDIT_BUREAU_HOUR AMT_REQ_CREDIT_BUREAU_DAY  \\\n",
       "0                        0.0                       0.0   \n",
       "1                        0.0                       0.0   \n",
       "\n",
       "   AMT_REQ_CREDIT_BUREAU_WEEK  AMT_REQ_CREDIT_BUREAU_MON  \\\n",
       "0                         0.0                        0.0   \n",
       "1                         0.0                        0.0   \n",
       "\n",
       "   AMT_REQ_CREDIT_BUREAU_QRT  AMT_REQ_CREDIT_BUREAU_YEAR  \n",
       "0                        0.0                         1.0  \n",
       "1                        0.0                         0.0  \n",
       "\n",
       "[2 rows x 122 columns]"
      ]
     },
     "execution_count": 7,
     "metadata": {},
     "output_type": "execute_result"
    }
   ],
   "source": [
    "app_train.head(2)"
   ]
  },
  {
   "cell_type": "markdown",
   "metadata": {},
   "source": [
    "##  ENCODAGE DES DONNEES\n",
    "Transformation des variables qualitatives en variables quantitatives via l'utilisation de :  \n",
    "\n",
    "label encoding pour les variables qualitatives comptant moins de 2 modalités  \n",
    "one hot encoding pour les autres variables qualitatives  "
   ]
  },
  {
   "cell_type": "code",
   "execution_count": 8,
   "metadata": {},
   "outputs": [
    {
     "name": "stdout",
     "output_type": "stream",
     "text": [
      "3 columns were label encoded.\n"
     ]
    }
   ],
   "source": [
    "# LabelEncoder pour les colonnes dont les valeurs uniques son inférieurs ou égales à 2\n",
    "# Create a label encoder object\n",
    "le = LabelEncoder()\n",
    "le_count = 0\n",
    "\n",
    "# Iterate through the columns\n",
    "for col in app_train:\n",
    "    if app_train[col].dtype == 'object':\n",
    "        # If 2 or fewer unique categories\n",
    "        if len(list(app_train[col].unique())) <= 2:\n",
    "            # Train on the data\n",
    "            le.fit(app_train[col])\n",
    "            # Transform data\n",
    "            app_train[col] = le.transform(app_train[col])\n",
    "            \n",
    "            # Keep track of how many columns were label encoded\n",
    "            le_count += 1\n",
    "            \n",
    "print('%d columns were label encoded.' % le_count)"
   ]
  },
  {
   "cell_type": "code",
   "execution_count": 9,
   "metadata": {},
   "outputs": [],
   "source": [
    "# one-hot encoding of categorical variables\n",
    "app_train = pd.get_dummies(app_train)"
   ]
  },
  {
   "cell_type": "code",
   "execution_count": 10,
   "metadata": {},
   "outputs": [
    {
     "data": {
      "text/plain": [
       "(307511, 243)"
      ]
     },
     "execution_count": 10,
     "metadata": {},
     "output_type": "execute_result"
    }
   ],
   "source": [
    "app_train.shape"
   ]
  },
  {
   "cell_type": "code",
   "execution_count": 11,
   "metadata": {},
   "outputs": [
    {
     "data": {
      "text/html": [
       "<div>\n",
       "<style scoped>\n",
       "    .dataframe tbody tr th:only-of-type {\n",
       "        vertical-align: middle;\n",
       "    }\n",
       "\n",
       "    .dataframe tbody tr th {\n",
       "        vertical-align: top;\n",
       "    }\n",
       "\n",
       "    .dataframe thead th {\n",
       "        text-align: right;\n",
       "    }\n",
       "</style>\n",
       "<table border=\"1\" class=\"dataframe\">\n",
       "  <thead>\n",
       "    <tr style=\"text-align: right;\">\n",
       "      <th></th>\n",
       "      <th>SK_ID_CURR</th>\n",
       "      <th>TARGET</th>\n",
       "      <th>NAME_CONTRACT_TYPE</th>\n",
       "      <th>FLAG_OWN_CAR</th>\n",
       "      <th>FLAG_OWN_REALTY</th>\n",
       "      <th>CNT_CHILDREN</th>\n",
       "      <th>AMT_INCOME_TOTAL</th>\n",
       "      <th>AMT_CREDIT</th>\n",
       "      <th>AMT_ANNUITY</th>\n",
       "      <th>AMT_GOODS_PRICE</th>\n",
       "      <th>...</th>\n",
       "      <th>HOUSETYPE_MODE_terraced house</th>\n",
       "      <th>WALLSMATERIAL_MODE_Block</th>\n",
       "      <th>WALLSMATERIAL_MODE_Mixed</th>\n",
       "      <th>WALLSMATERIAL_MODE_Monolithic</th>\n",
       "      <th>WALLSMATERIAL_MODE_Others</th>\n",
       "      <th>WALLSMATERIAL_MODE_Panel</th>\n",
       "      <th>WALLSMATERIAL_MODE_Stone, brick</th>\n",
       "      <th>WALLSMATERIAL_MODE_Wooden</th>\n",
       "      <th>EMERGENCYSTATE_MODE_No</th>\n",
       "      <th>EMERGENCYSTATE_MODE_Yes</th>\n",
       "    </tr>\n",
       "  </thead>\n",
       "  <tbody>\n",
       "    <tr>\n",
       "      <th>count</th>\n",
       "      <td>307511.000000</td>\n",
       "      <td>307511.000000</td>\n",
       "      <td>307511.000000</td>\n",
       "      <td>307511.000000</td>\n",
       "      <td>307511.000000</td>\n",
       "      <td>307511.000000</td>\n",
       "      <td>3.075110e+05</td>\n",
       "      <td>3.075110e+05</td>\n",
       "      <td>307499.000000</td>\n",
       "      <td>3.072330e+05</td>\n",
       "      <td>...</td>\n",
       "      <td>307511.000000</td>\n",
       "      <td>307511.000000</td>\n",
       "      <td>307511.000000</td>\n",
       "      <td>307511.000000</td>\n",
       "      <td>307511.000000</td>\n",
       "      <td>307511.000000</td>\n",
       "      <td>307511.000000</td>\n",
       "      <td>307511.000000</td>\n",
       "      <td>307511.000000</td>\n",
       "      <td>307511.000000</td>\n",
       "    </tr>\n",
       "    <tr>\n",
       "      <th>mean</th>\n",
       "      <td>278180.518577</td>\n",
       "      <td>0.080729</td>\n",
       "      <td>0.095213</td>\n",
       "      <td>0.340108</td>\n",
       "      <td>0.693673</td>\n",
       "      <td>0.417052</td>\n",
       "      <td>1.687979e+05</td>\n",
       "      <td>5.990260e+05</td>\n",
       "      <td>27108.573909</td>\n",
       "      <td>5.383962e+05</td>\n",
       "      <td>...</td>\n",
       "      <td>0.003941</td>\n",
       "      <td>0.030090</td>\n",
       "      <td>0.007466</td>\n",
       "      <td>0.005785</td>\n",
       "      <td>0.005284</td>\n",
       "      <td>0.214757</td>\n",
       "      <td>0.210773</td>\n",
       "      <td>0.017437</td>\n",
       "      <td>0.518446</td>\n",
       "      <td>0.007570</td>\n",
       "    </tr>\n",
       "    <tr>\n",
       "      <th>std</th>\n",
       "      <td>102790.175348</td>\n",
       "      <td>0.272419</td>\n",
       "      <td>0.293509</td>\n",
       "      <td>0.473746</td>\n",
       "      <td>0.460968</td>\n",
       "      <td>0.722121</td>\n",
       "      <td>2.371231e+05</td>\n",
       "      <td>4.024908e+05</td>\n",
       "      <td>14493.737315</td>\n",
       "      <td>3.694465e+05</td>\n",
       "      <td>...</td>\n",
       "      <td>0.062656</td>\n",
       "      <td>0.170835</td>\n",
       "      <td>0.086085</td>\n",
       "      <td>0.075840</td>\n",
       "      <td>0.072501</td>\n",
       "      <td>0.410654</td>\n",
       "      <td>0.407858</td>\n",
       "      <td>0.130892</td>\n",
       "      <td>0.499660</td>\n",
       "      <td>0.086679</td>\n",
       "    </tr>\n",
       "    <tr>\n",
       "      <th>min</th>\n",
       "      <td>100002.000000</td>\n",
       "      <td>0.000000</td>\n",
       "      <td>0.000000</td>\n",
       "      <td>0.000000</td>\n",
       "      <td>0.000000</td>\n",
       "      <td>0.000000</td>\n",
       "      <td>2.565000e+04</td>\n",
       "      <td>4.500000e+04</td>\n",
       "      <td>1615.500000</td>\n",
       "      <td>4.050000e+04</td>\n",
       "      <td>...</td>\n",
       "      <td>0.000000</td>\n",
       "      <td>0.000000</td>\n",
       "      <td>0.000000</td>\n",
       "      <td>0.000000</td>\n",
       "      <td>0.000000</td>\n",
       "      <td>0.000000</td>\n",
       "      <td>0.000000</td>\n",
       "      <td>0.000000</td>\n",
       "      <td>0.000000</td>\n",
       "      <td>0.000000</td>\n",
       "    </tr>\n",
       "    <tr>\n",
       "      <th>25%</th>\n",
       "      <td>189145.500000</td>\n",
       "      <td>0.000000</td>\n",
       "      <td>0.000000</td>\n",
       "      <td>0.000000</td>\n",
       "      <td>0.000000</td>\n",
       "      <td>0.000000</td>\n",
       "      <td>1.125000e+05</td>\n",
       "      <td>2.700000e+05</td>\n",
       "      <td>16524.000000</td>\n",
       "      <td>2.385000e+05</td>\n",
       "      <td>...</td>\n",
       "      <td>0.000000</td>\n",
       "      <td>0.000000</td>\n",
       "      <td>0.000000</td>\n",
       "      <td>0.000000</td>\n",
       "      <td>0.000000</td>\n",
       "      <td>0.000000</td>\n",
       "      <td>0.000000</td>\n",
       "      <td>0.000000</td>\n",
       "      <td>0.000000</td>\n",
       "      <td>0.000000</td>\n",
       "    </tr>\n",
       "    <tr>\n",
       "      <th>50%</th>\n",
       "      <td>278202.000000</td>\n",
       "      <td>0.000000</td>\n",
       "      <td>0.000000</td>\n",
       "      <td>0.000000</td>\n",
       "      <td>1.000000</td>\n",
       "      <td>0.000000</td>\n",
       "      <td>1.471500e+05</td>\n",
       "      <td>5.135310e+05</td>\n",
       "      <td>24903.000000</td>\n",
       "      <td>4.500000e+05</td>\n",
       "      <td>...</td>\n",
       "      <td>0.000000</td>\n",
       "      <td>0.000000</td>\n",
       "      <td>0.000000</td>\n",
       "      <td>0.000000</td>\n",
       "      <td>0.000000</td>\n",
       "      <td>0.000000</td>\n",
       "      <td>0.000000</td>\n",
       "      <td>0.000000</td>\n",
       "      <td>1.000000</td>\n",
       "      <td>0.000000</td>\n",
       "    </tr>\n",
       "    <tr>\n",
       "      <th>75%</th>\n",
       "      <td>367142.500000</td>\n",
       "      <td>0.000000</td>\n",
       "      <td>0.000000</td>\n",
       "      <td>1.000000</td>\n",
       "      <td>1.000000</td>\n",
       "      <td>1.000000</td>\n",
       "      <td>2.025000e+05</td>\n",
       "      <td>8.086500e+05</td>\n",
       "      <td>34596.000000</td>\n",
       "      <td>6.795000e+05</td>\n",
       "      <td>...</td>\n",
       "      <td>0.000000</td>\n",
       "      <td>0.000000</td>\n",
       "      <td>0.000000</td>\n",
       "      <td>0.000000</td>\n",
       "      <td>0.000000</td>\n",
       "      <td>0.000000</td>\n",
       "      <td>0.000000</td>\n",
       "      <td>0.000000</td>\n",
       "      <td>1.000000</td>\n",
       "      <td>0.000000</td>\n",
       "    </tr>\n",
       "    <tr>\n",
       "      <th>max</th>\n",
       "      <td>456255.000000</td>\n",
       "      <td>1.000000</td>\n",
       "      <td>1.000000</td>\n",
       "      <td>1.000000</td>\n",
       "      <td>1.000000</td>\n",
       "      <td>19.000000</td>\n",
       "      <td>1.170000e+08</td>\n",
       "      <td>4.050000e+06</td>\n",
       "      <td>258025.500000</td>\n",
       "      <td>4.050000e+06</td>\n",
       "      <td>...</td>\n",
       "      <td>1.000000</td>\n",
       "      <td>1.000000</td>\n",
       "      <td>1.000000</td>\n",
       "      <td>1.000000</td>\n",
       "      <td>1.000000</td>\n",
       "      <td>1.000000</td>\n",
       "      <td>1.000000</td>\n",
       "      <td>1.000000</td>\n",
       "      <td>1.000000</td>\n",
       "      <td>1.000000</td>\n",
       "    </tr>\n",
       "  </tbody>\n",
       "</table>\n",
       "<p>8 rows × 243 columns</p>\n",
       "</div>"
      ],
      "text/plain": [
       "          SK_ID_CURR         TARGET  NAME_CONTRACT_TYPE   FLAG_OWN_CAR  \\\n",
       "count  307511.000000  307511.000000       307511.000000  307511.000000   \n",
       "mean   278180.518577       0.080729            0.095213       0.340108   \n",
       "std    102790.175348       0.272419            0.293509       0.473746   \n",
       "min    100002.000000       0.000000            0.000000       0.000000   \n",
       "25%    189145.500000       0.000000            0.000000       0.000000   \n",
       "50%    278202.000000       0.000000            0.000000       0.000000   \n",
       "75%    367142.500000       0.000000            0.000000       1.000000   \n",
       "max    456255.000000       1.000000            1.000000       1.000000   \n",
       "\n",
       "       FLAG_OWN_REALTY   CNT_CHILDREN  AMT_INCOME_TOTAL    AMT_CREDIT  \\\n",
       "count    307511.000000  307511.000000      3.075110e+05  3.075110e+05   \n",
       "mean          0.693673       0.417052      1.687979e+05  5.990260e+05   \n",
       "std           0.460968       0.722121      2.371231e+05  4.024908e+05   \n",
       "min           0.000000       0.000000      2.565000e+04  4.500000e+04   \n",
       "25%           0.000000       0.000000      1.125000e+05  2.700000e+05   \n",
       "50%           1.000000       0.000000      1.471500e+05  5.135310e+05   \n",
       "75%           1.000000       1.000000      2.025000e+05  8.086500e+05   \n",
       "max           1.000000      19.000000      1.170000e+08  4.050000e+06   \n",
       "\n",
       "         AMT_ANNUITY  AMT_GOODS_PRICE  ...  HOUSETYPE_MODE_terraced house  \\\n",
       "count  307499.000000     3.072330e+05  ...                  307511.000000   \n",
       "mean    27108.573909     5.383962e+05  ...                       0.003941   \n",
       "std     14493.737315     3.694465e+05  ...                       0.062656   \n",
       "min      1615.500000     4.050000e+04  ...                       0.000000   \n",
       "25%     16524.000000     2.385000e+05  ...                       0.000000   \n",
       "50%     24903.000000     4.500000e+05  ...                       0.000000   \n",
       "75%     34596.000000     6.795000e+05  ...                       0.000000   \n",
       "max    258025.500000     4.050000e+06  ...                       1.000000   \n",
       "\n",
       "       WALLSMATERIAL_MODE_Block  WALLSMATERIAL_MODE_Mixed  \\\n",
       "count             307511.000000             307511.000000   \n",
       "mean                   0.030090                  0.007466   \n",
       "std                    0.170835                  0.086085   \n",
       "min                    0.000000                  0.000000   \n",
       "25%                    0.000000                  0.000000   \n",
       "50%                    0.000000                  0.000000   \n",
       "75%                    0.000000                  0.000000   \n",
       "max                    1.000000                  1.000000   \n",
       "\n",
       "       WALLSMATERIAL_MODE_Monolithic  WALLSMATERIAL_MODE_Others  \\\n",
       "count                  307511.000000              307511.000000   \n",
       "mean                        0.005785                   0.005284   \n",
       "std                         0.075840                   0.072501   \n",
       "min                         0.000000                   0.000000   \n",
       "25%                         0.000000                   0.000000   \n",
       "50%                         0.000000                   0.000000   \n",
       "75%                         0.000000                   0.000000   \n",
       "max                         1.000000                   1.000000   \n",
       "\n",
       "       WALLSMATERIAL_MODE_Panel  WALLSMATERIAL_MODE_Stone, brick  \\\n",
       "count             307511.000000                    307511.000000   \n",
       "mean                   0.214757                         0.210773   \n",
       "std                    0.410654                         0.407858   \n",
       "min                    0.000000                         0.000000   \n",
       "25%                    0.000000                         0.000000   \n",
       "50%                    0.000000                         0.000000   \n",
       "75%                    0.000000                         0.000000   \n",
       "max                    1.000000                         1.000000   \n",
       "\n",
       "       WALLSMATERIAL_MODE_Wooden  EMERGENCYSTATE_MODE_No  \\\n",
       "count              307511.000000           307511.000000   \n",
       "mean                    0.017437                0.518446   \n",
       "std                     0.130892                0.499660   \n",
       "min                     0.000000                0.000000   \n",
       "25%                     0.000000                0.000000   \n",
       "50%                     0.000000                1.000000   \n",
       "75%                     0.000000                1.000000   \n",
       "max                     1.000000                1.000000   \n",
       "\n",
       "       EMERGENCYSTATE_MODE_Yes  \n",
       "count            307511.000000  \n",
       "mean                  0.007570  \n",
       "std                   0.086679  \n",
       "min                   0.000000  \n",
       "25%                   0.000000  \n",
       "50%                   0.000000  \n",
       "75%                   0.000000  \n",
       "max                   1.000000  \n",
       "\n",
       "[8 rows x 243 columns]"
      ]
     },
     "execution_count": 11,
     "metadata": {},
     "output_type": "execute_result"
    }
   ],
   "source": [
    "app_train.describe(include=\"all\")"
   ]
  },
  {
   "cell_type": "code",
   "execution_count": 12,
   "metadata": {},
   "outputs": [],
   "source": [
    "app_train_copy = app_train.copy"
   ]
  },
  {
   "cell_type": "markdown",
   "metadata": {
    "id": "LMnOVke63cQc"
   },
   "source": [
    "## 3-CREATION DE FEATURES METIER (DOMAIN KNOWLEDGE FEATURES)\n",
    "Maybe it's not entirely correct to call this \"domain knowledge\" because I'm not a credit expert, but perhaps we could call this \"attempts at applying limited financial knowledge\". In this frame of mind, we can make a couple features that attempt to capture what we think may be important for telling whether a client will default on a loan. Here I'm going to use five features that were inspired by this script by Aguiar:"
   ]
  },
  {
   "cell_type": "markdown",
   "metadata": {
    "id": "TdS2_gKf2DfE"
   },
   "source": [
    "### 1.1- DONNÉES APP_TRAIN¶\n",
    "\n",
    "CREDIT_INCOME_PERCENT: the percentage of the credit amount relative to a client's income  \n",
    "ANNUITY_INCOME_PERCENT: the percentage of the loan annuity relative to a client's income  \n",
    "CREDIT_TERM: the length of the payment in months (since the annuity is the monthly amount due  \n",
    "DAYS_EMPLOYED_PERCENT: the percentage of the days employed relative to the client's age  \n",
    "SELF_FINANCED_PERCENT: Le ratio apport initial par rapport au prix du bien  \n"
   ]
  },
  {
   "cell_type": "code",
   "execution_count": 13,
   "metadata": {
    "colab": {
     "base_uri": "https://localhost:8080/",
     "height": 147
    },
    "id": "cqspA6MrqX6A",
    "outputId": "a5b3b3eb-881c-49ad-dd16-5564b512aacd"
   },
   "outputs": [
    {
     "data": {
      "text/html": [
       "<div>\n",
       "<style scoped>\n",
       "    .dataframe tbody tr th:only-of-type {\n",
       "        vertical-align: middle;\n",
       "    }\n",
       "\n",
       "    .dataframe tbody tr th {\n",
       "        vertical-align: top;\n",
       "    }\n",
       "\n",
       "    .dataframe thead th {\n",
       "        text-align: right;\n",
       "    }\n",
       "</style>\n",
       "<table border=\"1\" class=\"dataframe\">\n",
       "  <thead>\n",
       "    <tr style=\"text-align: right;\">\n",
       "      <th></th>\n",
       "      <th>SK_ID_CURR</th>\n",
       "      <th>TARGET</th>\n",
       "      <th>NAME_CONTRACT_TYPE</th>\n",
       "      <th>FLAG_OWN_CAR</th>\n",
       "      <th>FLAG_OWN_REALTY</th>\n",
       "      <th>CNT_CHILDREN</th>\n",
       "      <th>AMT_INCOME_TOTAL</th>\n",
       "      <th>AMT_CREDIT</th>\n",
       "      <th>AMT_ANNUITY</th>\n",
       "      <th>AMT_GOODS_PRICE</th>\n",
       "      <th>...</th>\n",
       "      <th>HOUSETYPE_MODE_terraced house</th>\n",
       "      <th>WALLSMATERIAL_MODE_Block</th>\n",
       "      <th>WALLSMATERIAL_MODE_Mixed</th>\n",
       "      <th>WALLSMATERIAL_MODE_Monolithic</th>\n",
       "      <th>WALLSMATERIAL_MODE_Others</th>\n",
       "      <th>WALLSMATERIAL_MODE_Panel</th>\n",
       "      <th>WALLSMATERIAL_MODE_Stone, brick</th>\n",
       "      <th>WALLSMATERIAL_MODE_Wooden</th>\n",
       "      <th>EMERGENCYSTATE_MODE_No</th>\n",
       "      <th>EMERGENCYSTATE_MODE_Yes</th>\n",
       "    </tr>\n",
       "  </thead>\n",
       "  <tbody>\n",
       "    <tr>\n",
       "      <th>0</th>\n",
       "      <td>100002</td>\n",
       "      <td>1</td>\n",
       "      <td>0</td>\n",
       "      <td>0</td>\n",
       "      <td>1</td>\n",
       "      <td>0</td>\n",
       "      <td>202500.0</td>\n",
       "      <td>406597.5</td>\n",
       "      <td>24700.5</td>\n",
       "      <td>351000.0</td>\n",
       "      <td>...</td>\n",
       "      <td>0</td>\n",
       "      <td>0</td>\n",
       "      <td>0</td>\n",
       "      <td>0</td>\n",
       "      <td>0</td>\n",
       "      <td>0</td>\n",
       "      <td>1</td>\n",
       "      <td>0</td>\n",
       "      <td>1</td>\n",
       "      <td>0</td>\n",
       "    </tr>\n",
       "  </tbody>\n",
       "</table>\n",
       "<p>1 rows × 243 columns</p>\n",
       "</div>"
      ],
      "text/plain": [
       "   SK_ID_CURR  TARGET  NAME_CONTRACT_TYPE  FLAG_OWN_CAR  FLAG_OWN_REALTY  \\\n",
       "0      100002       1                   0             0                1   \n",
       "\n",
       "   CNT_CHILDREN  AMT_INCOME_TOTAL  AMT_CREDIT  AMT_ANNUITY  AMT_GOODS_PRICE  \\\n",
       "0             0          202500.0    406597.5      24700.5         351000.0   \n",
       "\n",
       "   ...  HOUSETYPE_MODE_terraced house  WALLSMATERIAL_MODE_Block  \\\n",
       "0  ...                              0                         0   \n",
       "\n",
       "   WALLSMATERIAL_MODE_Mixed  WALLSMATERIAL_MODE_Monolithic  \\\n",
       "0                         0                              0   \n",
       "\n",
       "   WALLSMATERIAL_MODE_Others  WALLSMATERIAL_MODE_Panel  \\\n",
       "0                          0                         0   \n",
       "\n",
       "   WALLSMATERIAL_MODE_Stone, brick  WALLSMATERIAL_MODE_Wooden  \\\n",
       "0                                1                          0   \n",
       "\n",
       "   EMERGENCYSTATE_MODE_No  EMERGENCYSTATE_MODE_Yes  \n",
       "0                       1                        0  \n",
       "\n",
       "[1 rows x 243 columns]"
      ]
     },
     "execution_count": 13,
     "metadata": {},
     "output_type": "execute_result"
    }
   ],
   "source": [
    "app_train.head(1)"
   ]
  },
  {
   "cell_type": "code",
   "execution_count": 14,
   "metadata": {
    "id": "UFZfNK3P5DK5"
   },
   "outputs": [],
   "source": [
    "app_train['CREDIT_INCOME_PERCENT'] = app_train['AMT_CREDIT'] / app_train['AMT_INCOME_TOTAL']\n",
    "app_train['ANNUITY_INCOME_PERCENT'] = app_train['AMT_ANNUITY'] / app_train['AMT_INCOME_TOTAL']\n",
    "app_train['CREDIT_TERM'] = app_train['AMT_ANNUITY'] / app_train['AMT_CREDIT']\n",
    "app_train['DAYS_EMPLOYED_PERCENT'] = app_train['DAYS_EMPLOYED'] / app_train['DAYS_BIRTH']\n",
    "\n",
    "# Self financed on goods price ratio (%)\n",
    "app_train[\"SELF_FINANCED_PERCENT\"] = (app_train[\"AMT_GOODS_PRICE\"] - app_train[\"AMT_CREDIT\"])/app_train[\"AMT_GOODS_PRICE\"]*100\n",
    "app_train[\"SELF_FINANCED_PERCENT\"] = app_train[\"SELF_FINANCED_PERCENT\"].map(lambda x: 0 if x<0 else x)\n"
   ]
  },
  {
   "cell_type": "code",
   "execution_count": 15,
   "metadata": {
    "colab": {
     "base_uri": "https://localhost:8080/",
     "height": 1000
    },
    "id": "fzwS0g0qEOdW",
    "outputId": "5f0075a4-ddc7-46c5-ed40-1104c5db2cbc"
   },
   "outputs": [
    {
     "data": {
      "image/png": "[encoded data removed]",
      "text/plain": [
       "<Figure size 864x1440 with 5 Axes>"
      ]
     },
     "metadata": {
      "needs_background": "light"
     },
     "output_type": "display_data"
    }
   ],
   "source": [
    "plt.figure(figsize = (12, 20))\n",
    "# iterate through the new features\n",
    "for i, feature in enumerate(['CREDIT_INCOME_PERCENT', 'ANNUITY_INCOME_PERCENT', 'CREDIT_TERM', 'DAYS_EMPLOYED_PERCENT',\"SELF_FINANCED_PERCENT\" ]):\n",
    "    \n",
    "    # create a new subplot for each source\n",
    "    plt.subplot(5, 1, i + 1)\n",
    "    # plot repaid loans\n",
    "    sns.kdeplot(app_train.loc[app_train['TARGET'] == 0, feature], label = 'target == 0')\n",
    "    # plot loans that were not repaid\n",
    "    sns.kdeplot(app_train.loc[app_train['TARGET'] == 1, feature], label = 'target == 1')\n",
    "    \n",
    "    # Label the plots\n",
    "    plt.title('Distribution of %s by Target Value' % feature)\n",
    "    plt.xlabel('%s' % feature); plt.ylabel('Density');\n",
    "    \n",
    "plt.tight_layout(h_pad = 2.5)"
   ]
  },
  {
   "cell_type": "markdown",
   "metadata": {
    "id": "qq9nCUILD_JA"
   },
   "source": [
    "#### 1.2 DONNÉES BUREAU\n",
    "Création des features suivantes :\n",
    "Nombre de prêts bancaires précédents  \n",
    "\n",
    "Création des features suivantes par prêt par client :\n",
    "* Pour chaque feature qualitative :  \n",
    "nombre  \n",
    "moyenne  \n",
    "somme  \n",
    "* Pour chaque feature quantitative :  \n",
    "nombre  \n",
    "moyenne  \n",
    "maximum  \n",
    "minimum  \n",
    "somme  "
   ]
  },
  {
   "cell_type": "code",
   "execution_count": 16,
   "metadata": {
    "id": "Pie3uMKHE3Kh"
   },
   "outputs": [],
   "source": [
    "def convert_types(df, print_info = False):\n",
    "    '''\n",
    "        Optimized dataframe size by converting the types.\n",
    "        Parameters\n",
    "        --------\n",
    "        - df         : pandas dataframe\n",
    "                       The dataframe to optimize\n",
    "        - print_info : boolean\n",
    "                       Verbose flag\n",
    "        Return\n",
    "        --------\n",
    "        df : pandas dataframe\n",
    "             The optimized dataframe with converted types\n",
    "    '''\n",
    "    original_memory = df.memory_usage().sum()\n",
    "    \n",
    "    # Iterate through each column\n",
    "    for c in df:\n",
    "        \n",
    "        # Convert ids and booleans to integers\n",
    "        if ('SK_ID' in c):\n",
    "            df[c] = df[c].fillna(0).astype(np.int32)\n",
    "            \n",
    "        # Convert objects to category\n",
    "        elif (df[c].dtype == 'object') and (df[c].nunique() < df.shape[0]):\n",
    "            df[c] = df[c].astype('category')\n",
    "        \n",
    "        # Booleans mapped to integers\n",
    "        elif list(df[c].unique()) == [1, 0]:\n",
    "            df[c] = df[c].astype(bool)\n",
    "        \n",
    "        # Float64 to float32\n",
    "        elif df[c].dtype == float:\n",
    "            df[c] = df[c].astype(np.float32)\n",
    "            \n",
    "        # Int64 to int32\n",
    "        elif df[c].dtype == int:\n",
    "            df[c] = df[c].astype(np.int32)\n",
    "        \n",
    "    new_memory = df.memory_usage().sum()\n",
    "    \n",
    "    if print_info:\n",
    "        print(f'Original Memory Usage: {round(original_memory / 1e9, 2)} gb.')\n",
    "        print(f'New Memory Usage: {round(new_memory / 1e9, 2)} gb.')\n",
    "        \n",
    "    return df\n"
   ]
  },
  {
   "cell_type": "code",
   "execution_count": 17,
   "metadata": {
    "colab": {
     "base_uri": "https://localhost:8080/"
    },
    "id": "RRFQPEG6VHiG",
    "outputId": "020fc16a-1f8e-416c-de01-c65bce47d456"
   },
   "outputs": [
    {
     "name": "stdout",
     "output_type": "stream",
     "text": [
      "Original Memory Usage: 0.23 gb.\n",
      "New Memory Usage: 0.13 gb.\n"
     ]
    }
   ],
   "source": [
    "# Convert types for less memory usage\n",
    "bureau = convert_types(bureau, print_info=True)"
   ]
  },
  {
   "cell_type": "code",
   "execution_count": 18,
   "metadata": {
    "id": "pJb-TrNT2Po2"
   },
   "outputs": [],
   "source": [
    "# Creation de previous_loan_counts\n",
    "previous_loan_counts = bureau.groupby('SK_ID_CURR', \n",
    "                                      as_index=False)['SK_ID_BUREAU']\\\n",
    "                             .count()\\\n",
    "                             .rename(columns = {'SK_ID_BUREAU':\\\n",
    "                                                'previous_loan_counts'})\n",
    "\n",
    "# Merge de previous_loan_counts dans train on SK_ID_CURR, left\n",
    "app_train = app_train.merge(previous_loan_counts, \n",
    "                            on = 'SK_ID_CURR', how = 'left')\n",
    "\n",
    "# fillna(0) dans train\n",
    "app_train['previous_loan_counts'] = app_train['previous_loan_counts']\\\n",
    "                                    .fillna(0)"
   ]
  },
  {
   "cell_type": "code",
   "execution_count": 19,
   "metadata": {
    "id": "6NDNAf5yvyAZ"
   },
   "outputs": [],
   "source": [
    "def agg_categorical(df, group_var, df_name):\n",
    "    '''\n",
    "        Aggregates the categorical features in a child dataframe\n",
    "        for each observation of the parent variable.\n",
    "        \n",
    "        Parameters\n",
    "        --------\n",
    "        - df         : pandas dataframe\n",
    "                    The dataframe to calculate the value counts for.\n",
    "            \n",
    "        - parent_var : string\n",
    "                    The variable by which to group and aggregate \n",
    "                    the dataframe. For each unique value of this variable, \n",
    "                    the final dataframe will have one row\n",
    "            \n",
    "        - df_name    : string\n",
    "                    Variable added to the front of column names \n",
    "                    to keep track of columns\n",
    "        Return\n",
    "        --------\n",
    "        categorical : pandas dataframe\n",
    "                    A dataframe with aggregated statistics for each observation \n",
    "                    of the parent_var\n",
    "                    The columns are also renamed and columns with duplicate values \n",
    "                    are removed.\n",
    "    '''\n",
    "    \n",
    "    # Select the categorical columns\n",
    "    categorical = pd.get_dummies(df.select_dtypes('category'))\n",
    "\n",
    "    # Make sure to put the identifying id on the column\n",
    "    categorical[group_var] = df[group_var]\n",
    "\n",
    "    # Groupby the group var and calculate the sum and mean\n",
    "    categorical = categorical.groupby(group_var).agg(['sum', 'count', 'mean'])\n",
    "    \n",
    "    column_names = []\n",
    "    \n",
    "    # Iterate through the columns in level 0\n",
    "    for var in categorical.columns.levels[0]:\n",
    "        # Iterate through the stats in level 1\n",
    "        for stat in ['sum', 'count', 'mean']:\n",
    "            # Make a new column name\n",
    "            column_names.append('%s_%s_%s' % (df_name, var, stat))\n",
    "    \n",
    "    categorical.columns = column_names\n",
    "    \n",
    "    # Remove duplicate columns by values\n",
    "    _, idx = np.unique(categorical, axis = 1, return_index = True)\n",
    "    categorical = categorical.iloc[:, idx]\n",
    "    \n",
    "    return categorical\n"
   ]
  },
  {
   "cell_type": "code",
   "execution_count": 20,
   "metadata": {
    "id": "dQv2__1S2uMF"
   },
   "outputs": [],
   "source": [
    "# Creation of bureau_counts containing for each possible value \n",
    "# of the qualitative features 2 new feature : count and \n",
    "# normalized count\n",
    "\n",
    "bureau_counts = agg_categorical(bureau, \n",
    "                                     group_var = 'SK_ID_CURR', \n",
    "                                     df_name = 'bureau')"
   ]
  },
  {
   "cell_type": "code",
   "execution_count": 21,
   "metadata": {
    "id": "WaRKBeBzwVwB"
   },
   "outputs": [],
   "source": [
    "\n",
    "def agg_numeric(df, group_var, df_name):\n",
    "    '''\n",
    "        Aggregates the numeric values in a dataframe. This can\n",
    "        be used to create features for each instance of the grouping variable.\n",
    "        \n",
    "        Parameters\n",
    "        --------\n",
    "        - df        : pandas dataframe\n",
    "                    The dataframe to calculate the statistics on\n",
    "        - group_var : string\n",
    "                    The variable by which to group df\n",
    "        - df_name   : string\n",
    "                    The variable used to rename the columns\n",
    "            \n",
    "        Return\n",
    "        --------\n",
    "        - agg : pandas dataframe\n",
    "                A dataframe with the statistics aggregated for\n",
    "                all numeric columns. Each instance of the grouping variable will have\n",
    "                the statistics (mean, min, max, sum; currently supported) calculated.\n",
    "                The columns are also renamed to keep track of features created.\n",
    "    '''\n",
    "\n",
    "    # Remove id variables other than grouping variable\n",
    "    for col in df:\n",
    "        if col != group_var and 'SK_ID' in col:\n",
    "            df = df.drop(columns = col)\n",
    "            \n",
    "    group_ids = df[group_var]\n",
    "    numeric_df = df.select_dtypes('number').copy()\n",
    "    numeric_df[group_var] = group_ids\n",
    "\n",
    "    # Group by the specified variable and calculate the statistics\n",
    "    agg = numeric_df.groupby(group_var).agg(['count', 'mean', 'max', 'min', 'sum']).reset_index()\n",
    "\n",
    "    # Need to create new column names\n",
    "    columns = [group_var]\n",
    "\n",
    "    # Iterate through the variables names\n",
    "    for var in agg.columns.levels[0]:\n",
    "        # Skip the grouping variable\n",
    "        if var != group_var:\n",
    "            # Iterate through the stat names\n",
    "            for stat in agg.columns.levels[1][:-1]:\n",
    "                # Make a new column name for the variable and stat\n",
    "                columns.append('%s_%s_%s' % (df_name, var, stat))\n",
    "\n",
    "    agg.columns = columns\n",
    "\n",
    "    return agg"
   ]
  },
  {
   "cell_type": "code",
   "execution_count": 22,
   "metadata": {
    "id": "BFddGexQdy7U"
   },
   "outputs": [],
   "source": [
    "# Creation of bureau_agg containing for each possible value\n",
    "# of the quantitative features 5 new features : count, max,\n",
    "# mean, min and sum\n",
    " \n",
    "bureau_agg = agg_numeric(bureau.drop(columns = ['SK_ID_BUREAU']), \n",
    "                            group_var = 'SK_ID_CURR', \n",
    "                            df_name = 'bureau')"
   ]
  },
  {
   "cell_type": "code",
   "execution_count": 23,
   "metadata": {
    "id": "FPnd7WrLx2w3"
   },
   "outputs": [],
   "source": [
    "def remove_missing_columns(df, threshold = 90):\n",
    "    '''\n",
    "        Remove columns from dataframe with a percentage\n",
    "        of missing values > threshold.\n",
    "        Parameters\n",
    "        --------\n",
    "        - df        : pandas dataframe\n",
    "                      The dataframe to remove columns from.\n",
    "        - threshold : int \n",
    "                      The threshold for the % of missing values\n",
    "                      for a given feature above which the feature\n",
    "                      will be deleted.\n",
    "        Return\n",
    "        --------\n",
    "        df : pandas dataframe\n",
    "             The dataframe without the columns with a % of missing columns\n",
    "             > threshold.\n",
    "    '''\n",
    "\n",
    "    # Calculate missing stats for train and test (remember to calculate a percent!)\n",
    "    df_miss = pd.DataFrame(df.isnull().sum())\n",
    "    df_miss['percent'] = 100 * df_miss[0] / len(df)\n",
    "    \n",
    "    # list of missing columns for train and test\n",
    "    missing_columns = list(df_miss.index[df_miss['percent'] > threshold])\n",
    "    \n",
    "    # Print information\n",
    "    print('There are %d columns with greater than %d%% missing values.' \\\n",
    "          % (len(missing_columns), threshold))\n",
    "    \n",
    "    # Drop the missing columns and return\n",
    "    df = df.drop(columns = missing_columns)\n",
    "    \n",
    "    return df\n"
   ]
  },
  {
   "cell_type": "code",
   "execution_count": 24,
   "metadata": {
    "colab": {
     "base_uri": "https://localhost:8080/"
    },
    "id": "T1D0A8mzwOse",
    "outputId": "17aeb515-0b3e-41ed-ada2-93a0bfbf2cb1"
   },
   "outputs": [
    {
     "name": "stdout",
     "output_type": "stream",
     "text": [
      "There are 0 columns with greater than 90% missing values.\n"
     ]
    }
   ],
   "source": [
    "# Insert computed features into training data\n",
    "\n",
    "# Merge bureau_counts dans app_train\n",
    "app_train = app_train.merge(bureau_counts, on=\"SK_ID_CURR\", how=\"left\")\n",
    "\n",
    "# Merge bureau_agg dans app_train\n",
    "app_train = app_train.merge(bureau_agg, on=\"SK_ID_CURR\", how=\"left\")\n",
    "\n",
    "# Suppression des colonnes missing\n",
    "app_train = remove_missing_columns(app_train)"
   ]
  },
  {
   "cell_type": "markdown",
   "metadata": {
    "id": "nTH7rxatyDB-"
   },
   "source": [
    "#### 1.3 DONNÉES BUREAU_BALANCE\n",
    "Création des features suivantes par prêt par client :\n",
    "\n",
    "* Pour chaque features qualitative :  \n",
    "nombre  \n",
    "moyenne  \n",
    "somme  \n",
    "* Features mathématiques pour chaque features quantitative par prêt par client :  \n",
    "nombre  \n",
    "moyenne  \n",
    "maximum  \n",
    "minimum  \n",
    "somme  "
   ]
  },
  {
   "cell_type": "code",
   "execution_count": 25,
   "metadata": {
    "colab": {
     "base_uri": "https://localhost:8080/"
    },
    "id": "YUr-3sFkxzuy",
    "outputId": "f508ebb5-5d67-40fe-bc91-76217437277e"
   },
   "outputs": [
    {
     "name": "stdout",
     "output_type": "stream",
     "text": [
      "Original Memory Usage: 0.66 gb.\n",
      "New Memory Usage: 0.35 gb.\n"
     ]
    }
   ],
   "source": [
    "# Convert types for less memory usage\n",
    "bureau_balance = convert_types(bureau_balance, print_info=True)"
   ]
  },
  {
   "cell_type": "code",
   "execution_count": 26,
   "metadata": {
    "id": "Me8ARxkbyIJH"
   },
   "outputs": [],
   "source": [
    "# Comptage des catégories\n",
    "# Counts of each type of status for each previous loan\n",
    "bureau_balance_counts = agg_categorical(bureau_balance, \n",
    "                                           group_var = 'SK_ID_BUREAU', \n",
    "                                           df_name = 'bureau_balance')\n",
    "\n",
    "# Creation de bureau_balance_agg \n",
    "# Calculate value count statistics for each `SK_ID_CURR` \n",
    "bureau_balance_agg = agg_numeric(bureau_balance, \n",
    "                                    group_var = 'SK_ID_BUREAU', \n",
    "                                    df_name = 'bureau_balance')\n",
    "\n",
    "# Creation de bureau_by_loan\n",
    "# Dataframe grouped by the loan\n",
    "bureau_by_loan = bureau_balance_agg.merge(bureau_balance_counts, \n",
    "                                          right_index = True, \n",
    "                                          left_on = 'SK_ID_BUREAU', \n",
    "                                          how = 'outer')\n",
    "\n",
    "# Merge to include the SK_ID_CURR - Possibly several rows per client\n",
    "bureau_by_loan = bureau_by_loan.merge(bureau[['SK_ID_BUREAU', 'SK_ID_CURR']], \n",
    "                                      on = 'SK_ID_BUREAU', \n",
    "                                      how = 'left')\n",
    "\n",
    "# Creation de bureau_balance_by_client - One row per client\n",
    "bureau_balance_by_client = agg_numeric(bureau_by_loan.drop(columns = ['SK_ID_BUREAU']), \n",
    "                                          group_var = 'SK_ID_CURR', \n",
    "                                          df_name = 'client')"
   ]
  },
  {
   "cell_type": "code",
   "execution_count": 27,
   "metadata": {
    "colab": {
     "base_uri": "https://localhost:8080/"
    },
    "id": "iL67tjzNyPsE",
    "outputId": "7782f9d1-c2d3-49fe-c416-4d8a660d8c6a"
   },
   "outputs": [
    {
     "name": "stdout",
     "output_type": "stream",
     "text": [
      "There are 0 columns with greater than 90% missing values.\n"
     ]
    }
   ],
   "source": [
    "# Merge bureau_balance_by_client dans app_train\n",
    "app_train = app_train.merge(bureau_balance_by_client, on=\"SK_ID_CURR\", how=\"left\")\n",
    "\n",
    "# Suppression des colonnes missing\n",
    "app_train = remove_missing_columns(app_train)"
   ]
  },
  {
   "cell_type": "markdown",
   "metadata": {
    "id": "27AJCoCCzHeq"
   },
   "source": [
    "#### 1.4 DONNÉES PREVIOUS APPLICATION\n",
    "Création des features suivantes :  \n",
    "\n",
    "* Features mathématiques pour chaque feature qualitative par client :  \n",
    "somme  \n",
    "nombre  \n",
    "moyenne  \n",
    "* Features mathématiques pour chaque features quantitative par client :  \n",
    "nombre  \n",
    "moyenne  \n",
    "maximum  \n",
    "minimum  \n",
    "somme  "
   ]
  },
  {
   "cell_type": "code",
   "execution_count": 28,
   "metadata": {
    "colab": {
     "base_uri": "https://localhost:8080/"
    },
    "id": "cfrn_2mPyUiw",
    "outputId": "c5cffc00-f631-483a-80f6-beec29c248c8"
   },
   "outputs": [
    {
     "name": "stdout",
     "output_type": "stream",
     "text": [
      "Original Memory Usage: 0.49 gb.\n",
      "New Memory Usage: 0.18 gb.\n"
     ]
    }
   ],
   "source": [
    "# Convert types de previous\n",
    "prev_app = convert_types(prev_app, print_info=True)"
   ]
  },
  {
   "cell_type": "code",
   "execution_count": 29,
   "metadata": {
    "id": "jFHR2MRxzT6O"
   },
   "outputs": [],
   "source": [
    "# Creation de previous_agg\n",
    "prev_agg = agg_numeric(prev_app, 'SK_ID_CURR', 'previous')\n",
    "\n",
    "# Creation de previous_counts\n",
    "prev_counts = agg_categorical(prev_app, 'SK_ID_CURR', 'previous')"
   ]
  },
  {
   "cell_type": "code",
   "execution_count": 30,
   "metadata": {
    "colab": {
     "base_uri": "https://localhost:8080/"
    },
    "id": "ET0QxueLzYs8",
    "outputId": "0ca25e60-64fd-4733-c8b2-0dce45d695c9"
   },
   "outputs": [
    {
     "name": "stdout",
     "output_type": "stream",
     "text": [
      "There are 6 columns with greater than 90% missing values.\n"
     ]
    }
   ],
   "source": [
    "# Merge previous_counts dans app_train\n",
    "app_train = app_train.merge(prev_counts, on=\"SK_ID_CURR\", how=\"left\")\n",
    "\n",
    "# Merge previous_agg dans app_train\n",
    "app_train = app_train.merge(prev_agg, on=\"SK_ID_CURR\", how=\"left\")\n",
    "\n",
    "# Suppression des colonnes missing\n",
    "app_train = remove_missing_columns(app_train)"
   ]
  },
  {
   "cell_type": "markdown",
   "metadata": {
    "id": "_x7iloLHzgpx"
   },
   "source": [
    "\n",
    "### DONNÉES CASH\n",
    "Création des features suivantes :  \n",
    "\n",
    "* Features mathématiques pour chaque feature qualitative par client :  \n",
    "somme  \n",
    "nombre  \n",
    "moyenne  \n",
    "* Features mathématiques pour chaque features quantitative par client :  \n",
    "nombre  \n",
    "moyenne  \n",
    "maximum  \n",
    "minimum  \n",
    "somme  "
   ]
  },
  {
   "cell_type": "code",
   "execution_count": 31,
   "metadata": {
    "colab": {
     "base_uri": "https://localhost:8080/"
    },
    "id": "F8wKow_AzdCK",
    "outputId": "f1f1d645-f242-401a-9f08-7a19d63e0a8a"
   },
   "outputs": [
    {
     "name": "stdout",
     "output_type": "stream",
     "text": [
      "Original Memory Usage: 0.64 gb.\n",
      "New Memory Usage: 0.41 gb.\n"
     ]
    }
   ],
   "source": [
    "# Convert types de cash\n",
    "cash = convert_types(cash, print_info=True)"
   ]
  },
  {
   "cell_type": "code",
   "execution_count": 32,
   "metadata": {
    "id": "g2VoF_jdz2_X"
   },
   "outputs": [],
   "source": [
    "def aggregate_client(df, group_vars, df_names):\n",
    "    '''\n",
    "        Aggregate a dataframe with data at the loan level\n",
    "        at the client level\n",
    "    \n",
    "        Parameters\n",
    "        --------\n",
    "        - df : pandas dataframe\n",
    "               Data at the loan level\n",
    "        - group_vars : list of two strings\n",
    "                       grouping variables for the loan, then the client\n",
    "                    (example ['SK_ID_PREV', 'SK_ID_CURR'])\n",
    "        - names : list of two strings\n",
    "                   names to call the resulting columns\n",
    "                   (example ['cash', 'client'])\n",
    "            \n",
    "        Returns\n",
    "        --------\n",
    "        - df_client : pandas dataframe\n",
    "                      Aggregated numeric stats at the client level.\n",
    "                      Each client will have a single row with all the \n",
    "                      numeric data aggregated\n",
    "    '''\n",
    "    \n",
    "    # Aggregate the numeric columns\n",
    "    df_agg = agg_numeric(df, group_var = group_vars[0], df_name = df_names[0])\n",
    "    \n",
    "    # If there are categorical variables\n",
    "    if any(df.dtypes == 'category'):\n",
    "    \n",
    "        # Count the categorical columns\n",
    "        df_counts = agg_categorical(df, group_var = group_vars[0], df_name = df_names[0])\n",
    "\n",
    "        # Merge the numeric and categorical\n",
    "        df_by_loan = df_counts.merge(df_agg, on = group_vars[0], how = 'outer')\n",
    "\n",
    "\n",
    "        # Merge to get the client id in dataframe\n",
    "        df_by_loan = df_by_loan.merge(df[[group_vars[0], group_vars[1]]], on = group_vars[0], how = 'left')\n",
    "\n",
    "        # Remove the loan id\n",
    "        df_by_loan = df_by_loan.drop(columns = [group_vars[0]])\n",
    "\n",
    "        # Aggregate numeric stats by column\n",
    "        df_by_client = agg_numeric(df_by_loan, group_var = group_vars[1], df_name = df_names[1])\n",
    "\n",
    "        \n",
    "    # No categorical variables\n",
    "    else:\n",
    "        # Merge to get the client id in dataframe\n",
    "        df_by_loan = df_agg.merge(df[[group_vars[0], group_vars[1]]], on = group_vars[0], how = 'left')\n",
    "        \n",
    "        # Remove the loan id\n",
    "        df_by_loan = df_by_loan.drop(columns = [group_vars[0]])\n",
    "        \n",
    "        # Aggregate numeric stats by column\n",
    "        df_by_client = agg_numeric(df_by_loan, group_var = group_vars[1], df_name = df_names[1])\n",
    "        \n",
    "\n",
    "    return df_by_client"
   ]
  },
  {
   "cell_type": "code",
   "execution_count": 33,
   "metadata": {
    "colab": {
     "base_uri": "https://localhost:8080/"
    },
    "id": "X42Zlmg7zr_w",
    "outputId": "468be812-ded7-430f-8f1b-5f45d9d68c48"
   },
   "outputs": [
    {
     "name": "stdout",
     "output_type": "stream",
     "text": [
      "There are 0 columns with greater than 90% missing values.\n"
     ]
    }
   ],
   "source": [
    "# Creation de cash_by_client\n",
    "cash_by_client = aggregate_client(cash, \n",
    "                                     group_vars = ['SK_ID_PREV', 'SK_ID_CURR'], \n",
    "                                     df_names = ['cash', 'client'])\n",
    "\n",
    "# Merge cash_by_client dans app_train\n",
    "app_train = app_train.merge(cash_by_client, on = 'SK_ID_CURR', how = 'left')\n",
    "\n",
    "# Suppression des colonnes missing\n",
    "app_train = remove_missing_columns(app_train)"
   ]
  },
  {
   "cell_type": "markdown",
   "metadata": {
    "id": "xICRXuQZz7ZW"
   },
   "source": [
    "#### 1.5 DONNÉES CARTE DE CRÉDIT\n",
    "Création des features suivantes :\n",
    "\n",
    "Features mathématiques pour chaque feature qualitative par client :  \n",
    "somme  \n",
    "nombre  \n",
    "moyenne  \n",
    "Features mathématiques pour chaque features quantitative par client :  \n",
    "nombre  \n",
    "moyenne  \n",
    "maximum  \n",
    "minimum  \n",
    "somme  "
   ]
  },
  {
   "cell_type": "code",
   "execution_count": 34,
   "metadata": {
    "id": "IKr2GBwTzw7J"
   },
   "outputs": [
    {
     "name": "stdout",
     "output_type": "stream",
     "text": [
      "Original Memory Usage: 0.71 gb.\n",
      "New Memory Usage: 0.42 gb.\n"
     ]
    }
   ],
   "source": [
    "# Convert types de credit\n",
    "credit = convert_types(credit, print_info=True)"
   ]
  },
  {
   "cell_type": "code",
   "execution_count": 35,
   "metadata": {},
   "outputs": [
    {
     "name": "stdout",
     "output_type": "stream",
     "text": [
      "There are 0 columns with greater than 90% missing values.\n"
     ]
    }
   ],
   "source": [
    "# Creation de credit_by_client\n",
    "credit_by_client = aggregate_client(credit, \n",
    "                                       group_vars = ['SK_ID_PREV', 'SK_ID_CURR'], \n",
    "                                       df_names = ['credit', 'client'])\n",
    "\n",
    "# Merge credit_by_client dans app_train\n",
    "app_train = app_train.merge(credit_by_client, on=\"SK_ID_CURR\", how=\"left\")\n",
    "\n",
    "# Suppression des colonnes missing\n",
    "app_train = remove_missing_columns(app_train)"
   ]
  },
  {
   "cell_type": "markdown",
   "metadata": {},
   "source": [
    "#### 1.6 DONNÉES PAIEMENT\n",
    "Création des features suivantes :  \n",
    "\n",
    "Features mathématiques pour chaque feature qualitative par client :\n",
    "somme  \n",
    "nombre  \n",
    "moyenne  \n",
    "Features mathématiques pour chaque features quantitative par client :  \n",
    "nombre  \n",
    "moyenne  \n",
    "maximum  \n",
    "minimum  \n",
    "somme  "
   ]
  },
  {
   "cell_type": "code",
   "execution_count": 36,
   "metadata": {},
   "outputs": [
    {
     "name": "stdout",
     "output_type": "stream",
     "text": [
      "Original Memory Usage: 0.87 gb.\n",
      "New Memory Usage: 0.49 gb.\n"
     ]
    }
   ],
   "source": [
    "# Convert types de installments\n",
    "installments = convert_types(installments, print_info = True)"
   ]
  },
  {
   "cell_type": "code",
   "execution_count": 37,
   "metadata": {},
   "outputs": [
    {
     "name": "stdout",
     "output_type": "stream",
     "text": [
      "There are 0 columns with greater than 90% missing values.\n"
     ]
    }
   ],
   "source": [
    "# Creation de installments_by_clients\n",
    "installments_by_client = aggregate_client(installments, \n",
    "                                             group_vars = ['SK_ID_PREV', 'SK_ID_CURR'], \n",
    "                                             df_names = ['installments', 'client'])\n",
    "\n",
    "# Merge installments_by_clietns dans app_train\n",
    "app_train = app_train.merge(installments_by_client, on = 'SK_ID_CURR', how = 'left')\n",
    "\n",
    "# Suppression des colonnes missing\n",
    "app_train = remove_missing_columns(app_train)"
   ]
  },
  {
   "cell_type": "code",
   "execution_count": 38,
   "metadata": {},
   "outputs": [],
   "source": [
    "app_train_domain= app_train.copy()"
   ]
  },
  {
   "cell_type": "code",
   "execution_count": 39,
   "metadata": {},
   "outputs": [
    {
     "data": {
      "text/plain": [
       "(307511, 1780)"
      ]
     },
     "execution_count": 39,
     "metadata": {},
     "output_type": "execute_result"
    }
   ],
   "source": [
    "app_train_domain.shape"
   ]
  },
  {
   "cell_type": "markdown",
   "metadata": {},
   "source": [
    "## 3- POLYNOMIAL FEATURES\n",
    "\n",
    "Les variables EXT_SOURCE_{1-3} n'ont a priori pas de sens concret. On peut imaginer que TARGET ne soit pas forcément linéairement dépendant de ces variables. Nous allons donc générer des combinaisons polynomiales de ces variables.\n",
    "\n",
    "Une méthode simple de construction de caractéristiques est appelée polynomial features.  \n",
    "Dans cette méthode, nous créons de features qui sont des puissances de features existants ainsi que des termes d'interaction entre des features existants. Par exemple, nous pouvons créer des variables EXT_SOURCE_1^2 et EXT_SOURCE_2^2 ainsi que des variables telles que EXT_SOURCE_1 x EXT_SOURCE_2, EXT_SOURCE_1 x EXT_SOURCE_2^2, EXT_SOURCE_1^2 x EXT_SOURCE_2^2, et ainsi de suite. Ces caractéristiques qui sont une combinaison de plusieurs variables individuelles sont appelées termes d'interaction car elles capturent les interactions entre les variables. En d'autres termes, alors que deux variables en elles-mêmes peuvent ne pas avoir une forte influence sur la cible, leur combinaison en une seule variable d'interaction peut montrer une relation avec la cible. Les termes d'interaction sont couramment utilisés dans les modèles statistiques pour capturer les effets de plusieurs variables, mais je ne les vois pas utilisés aussi souvent dans l'apprentissage automatique. Néanmoins, nous pouvons en essayer quelques-uns pour voir s'ils peuvent aider notre modèle à prédire si un client remboursera ou non un prêt.\n",
    "\n",
    "Jake VanderPlas écrit sur les fonctionnalités polynomiales dans son excellent livre Python for Data Science pour ceux qui souhaitent plus d'informations.\n",
    "\n",
    "Dans le code suivant, nous créons des entités polynomiales à l'aide des variables EXT_SOURCE et de la variable DAYS_BIRTH. Scikit-Learn a une classe utile appelée PolynomialFeatures qui crée les polynômes et les termes d'interaction jusqu'à un degré spécifié. Nous pouvons utiliser un degré de 3 pour voir les résultats (lorsque nous créons des caractéristiques polynomiales, nous voulons éviter d'utiliser un degré trop élevé, à la fois parce que le nombre de caractéristiques évolue de façon exponentielle avec le degré, et parce que nous pouvons rencontrer des problèmes avec surapprentissage)."
   ]
  },
  {
   "cell_type": "code",
   "execution_count": 40,
   "metadata": {},
   "outputs": [],
   "source": [
    "# Make a new dataframe for polynomial features\n",
    "poly_features = app_train[['EXT_SOURCE_1', 'EXT_SOURCE_2', 'EXT_SOURCE_3', 'DAYS_BIRTH', 'TARGET']]\n",
    "\n",
    "# imputer for handling missing values\n",
    "from sklearn.impute import SimpleImputer\n",
    "imputer = SimpleImputer(strategy = 'median')\n",
    "\n",
    "poly_target = poly_features['TARGET']\n",
    "\n",
    "poly_features = poly_features.drop(columns = ['TARGET'])\n",
    "\n",
    "# Need to impute missing values\n",
    "poly_features = imputer.fit_transform(poly_features)\n",
    "\n",
    "from sklearn.preprocessing import PolynomialFeatures\n",
    "                                  \n",
    "# Create the polynomial object with specified degree\n",
    "poly_transformer = PolynomialFeatures(degree = 3)"
   ]
  },
  {
   "cell_type": "code",
   "execution_count": 41,
   "metadata": {},
   "outputs": [
    {
     "name": "stdout",
     "output_type": "stream",
     "text": [
      "Polynomial Features shape:  (307511, 35)\n"
     ]
    }
   ],
   "source": [
    "# Train the polynomial features\n",
    "poly_transformer.fit(poly_features)\n",
    "\n",
    "# Transform the features\n",
    "poly_features = poly_transformer.transform(poly_features)\n",
    "print('Polynomial Features shape: ', poly_features.shape)"
   ]
  },
  {
   "cell_type": "markdown",
   "metadata": {},
   "source": [
    "This creates a considerable number of new features. To get the names we have to use the polynomial features get_feature_names method."
   ]
  },
  {
   "cell_type": "code",
   "execution_count": 42,
   "metadata": {},
   "outputs": [
    {
     "data": {
      "text/plain": [
       "['1',\n",
       " 'EXT_SOURCE_1',\n",
       " 'EXT_SOURCE_2',\n",
       " 'EXT_SOURCE_3',\n",
       " 'DAYS_BIRTH',\n",
       " 'EXT_SOURCE_1^2',\n",
       " 'EXT_SOURCE_1 EXT_SOURCE_2',\n",
       " 'EXT_SOURCE_1 EXT_SOURCE_3',\n",
       " 'EXT_SOURCE_1 DAYS_BIRTH',\n",
       " 'EXT_SOURCE_2^2',\n",
       " 'EXT_SOURCE_2 EXT_SOURCE_3',\n",
       " 'EXT_SOURCE_2 DAYS_BIRTH',\n",
       " 'EXT_SOURCE_3^2',\n",
       " 'EXT_SOURCE_3 DAYS_BIRTH',\n",
       " 'DAYS_BIRTH^2']"
      ]
     },
     "execution_count": 42,
     "metadata": {},
     "output_type": "execute_result"
    }
   ],
   "source": [
    "poly_transformer.get_feature_names(input_features = ['EXT_SOURCE_1', 'EXT_SOURCE_2', 'EXT_SOURCE_3', 'DAYS_BIRTH'])[:15]"
   ]
  },
  {
   "cell_type": "markdown",
   "metadata": {},
   "source": [
    "There are 35 features with individual features raised to powers up to degree 3 and interaction terms. Now, we can see whether any of these new features are correlated with the target."
   ]
  },
  {
   "cell_type": "code",
   "execution_count": 43,
   "metadata": {},
   "outputs": [
    {
     "name": "stdout",
     "output_type": "stream",
     "text": [
      "EXT_SOURCE_2 EXT_SOURCE_3                -0.193939\n",
      "EXT_SOURCE_1 EXT_SOURCE_2 EXT_SOURCE_3   -0.189605\n",
      "EXT_SOURCE_2^2 EXT_SOURCE_3              -0.176428\n",
      "EXT_SOURCE_2 EXT_SOURCE_3^2              -0.172282\n",
      "EXT_SOURCE_1 EXT_SOURCE_2                -0.166625\n",
      "EXT_SOURCE_1 EXT_SOURCE_3                -0.164065\n",
      "EXT_SOURCE_2                             -0.160295\n",
      "EXT_SOURCE_1 EXT_SOURCE_2^2              -0.156867\n",
      "EXT_SOURCE_3                             -0.155892\n",
      "EXT_SOURCE_1 EXT_SOURCE_3^2              -0.150822\n",
      "Name: TARGET, dtype: float64\n",
      "EXT_SOURCE_1 EXT_SOURCE_2 DAYS_BIRTH    0.155891\n",
      "EXT_SOURCE_2 DAYS_BIRTH                 0.156873\n",
      "EXT_SOURCE_2 EXT_SOURCE_3 DAYS_BIRTH    0.181283\n",
      "TARGET                                  1.000000\n",
      "1                                            NaN\n",
      "Name: TARGET, dtype: float64\n"
     ]
    }
   ],
   "source": [
    "# Create a dataframe of the features \n",
    "poly_features = pd.DataFrame(poly_features, \n",
    "                             columns = poly_transformer.get_feature_names(['EXT_SOURCE_1', 'EXT_SOURCE_2', \n",
    "                                                                           'EXT_SOURCE_3', 'DAYS_BIRTH']))\n",
    "\n",
    "# Add in the target\n",
    "poly_features['TARGET'] = poly_target\n",
    "\n",
    "# Find the correlations with the target\n",
    "poly_corrs = poly_features.corr()['TARGET'].sort_values()\n",
    "\n",
    "# Display most negative and most positive\n",
    "print(poly_corrs.head(10))\n",
    "print(poly_corrs.tail(5))"
   ]
  },
  {
   "cell_type": "markdown",
   "metadata": {},
   "source": [
    "Several of the new variables have a greater (in terms of absolute magnitude) correlation with the target than the original features. When we build machine learning models, we can try with and without these features to determine if they actually help the model learn.\n",
    "\n",
    "We will add these features to a copy of the training and testing data and then evaluate models with and without the features. Many times in machine learning, the only way to know if an approach will work is to try it out!"
   ]
  },
  {
   "cell_type": "code",
   "execution_count": 44,
   "metadata": {},
   "outputs": [
    {
     "name": "stdout",
     "output_type": "stream",
     "text": [
      "Training data with polynomial features shape:  (307511, 1816)\n"
     ]
    }
   ],
   "source": [
    "# Merge polynomial features into training dataframe\n",
    "poly_features['SK_ID_CURR'] = app_train['SK_ID_CURR']\n",
    "app_train_poly = app_train.merge(poly_features, on = 'SK_ID_CURR', how = 'left')\n",
    "\n",
    "# Print out the new shapes\n",
    "print('Training data with polynomial features shape: ', app_train_poly.shape)"
   ]
  },
  {
   "cell_type": "code",
   "execution_count": 49,
   "metadata": {},
   "outputs": [
    {
     "data": {
      "text/plain": [
       "(307511, 1816)"
      ]
     },
     "execution_count": 49,
     "metadata": {},
     "output_type": "execute_result"
    }
   ],
   "source": [
    "app_train_poly.shape"
   ]
  },
  {
   "cell_type": "markdown",
   "metadata": {},
   "source": [
    "# 5- EXPORT DES DONNEES"
   ]
  },
  {
   "cell_type": "code",
   "execution_count": 45,
   "metadata": {},
   "outputs": [],
   "source": [
    "# df avec les features métier\n",
    "app_train.to_csv(\"C:\\\\Users\\\\marie\\\\OneDrive\\\\OPC\\\\P7/app_train_features.csv\")"
   ]
  },
  {
   "cell_type": "code",
   "execution_count": 46,
   "metadata": {},
   "outputs": [],
   "source": [
    "# df avec les features métier et les features polynomiales\n",
    "app_train_poly.to_csv(\"C:\\\\Users\\\\marie\\\\OneDrive\\\\OPC\\\\P7/app_train_poly.csv\")"
   ]
  }
 ],
 "metadata": {
  "colab": {
   "collapsed_sections": [],
   "machine_shape": "hm",
   "name": "P7_02.ipynb",
   "provenance": []
  },
  "kernelspec": {
   "display_name": "Python 3 (ipykernel)",
   "language": "python",
   "name": "python3"
  },
  "language_info": {
   "codemirror_mode": {
    "name": "ipython",
    "version": 3
   },
   "file_extension": ".py",
   "mimetype": "text/x-python",
   "name": "python",
   "nbconvert_exporter": "python",
   "pygments_lexer": "ipython3",
   "version": "3.9.7"
  }
 },
 "nbformat": 4,
 "nbformat_minor": 1
}
